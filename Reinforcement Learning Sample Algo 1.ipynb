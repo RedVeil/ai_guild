{
 "cells": [
  {
   "cell_type": "code",
   "execution_count": 1,
   "metadata": {},
   "outputs": [],
   "source": [
    "import numpy as np\n",
    "import random\n",
    "import matplotlib.pyplot as plt"
   ]
  },
  {
   "cell_type": "markdown",
   "metadata": {},
   "source": [
    "Matrix of four States find Goal, avoid Snake"
   ]
  },
  {
   "cell_type": "code",
   "execution_count": 6,
   "metadata": {},
   "outputs": [],
   "source": [
    "state_matrix = [[(\"Start\", 0), (\"Nothing\", 1)],\n",
    "                [(\"Snake\", 2), (\"Goal\", 3)]]"
   ]
  },
  {
   "cell_type": "code",
   "execution_count": 7,
   "metadata": {},
   "outputs": [],
   "source": [
    "gamma = 0.8\n",
    "reward = np.array([[0,-10,  0,-1,-1],\n",
    "                   [0, 10, -1, 0,-1],\n",
    "                   [-1, 0,  0,10,-1],\n",
    "                   [-1, 0,-10, 0,10]])\n",
    "q_matrix = np.zeros((4,5))\n",
    "\n",
    "#-1 = invalid transition\n",
    "transition_matrix = np.array([[-1,2,-1,1,1],\n",
    "                              [-1,3,0,-1,2],\n",
    "                              [0,-1,-1,3,3],\n",
    "                              [1,-1,2,-1,4]])\n",
    "#up = 0, down = 1, left = 2, right = 3, no action = 4\n",
    "#row = state\n",
    "valid_actions = np.array([[1,3,4],\n",
    "                          [1,2,4],\n",
    "                          [0,3,4],\n",
    "                          [0,2,4]])"
   ]
  },
  {
   "cell_type": "code",
   "execution_count": null,
   "metadata": {},
   "outputs": [],
   "source": [
    "for i in range(100): #1000 episodes\n",
    "    start_state = 0\n",
    "    current_state = start_state\n",
    "    while current_state != 3:\n",
    "        action = random.choice(valid_actions[current_state])\n",
    "        next_state = transition_matrix[current_state][action]\n",
    "        future_rewards = []\n",
    "        for action_next in valid_actions[next_state]:\n",
    "            future_rewards.append(q_matrix[next_state][action_next])\n",
    "        q_state = reward[current_state][action] + gamma*max(future_rewards)\n",
    "        q_matrix[current_state][action] = q_state\n",
    "        if current_state == 3:\n",
    "            print(\"Goal state reached\")\n",
    "print(\"final q-matrix: \")\n",
    "print(q_matrix)"
   ]
  },
  {
   "cell_type": "code",
   "execution_count": null,
   "metadata": {},
   "outputs": [],
   "source": []
  }
 ],
 "metadata": {
  "kernelspec": {
   "display_name": "Python 3",
   "language": "python",
   "name": "python3"
  },
  "language_info": {
   "codemirror_mode": {
    "name": "ipython",
    "version": 3
   },
   "file_extension": ".py",
   "mimetype": "text/x-python",
   "name": "python",
   "nbconvert_exporter": "python",
   "pygments_lexer": "ipython3",
   "version": "3.7.2"
  }
 },
 "nbformat": 4,
 "nbformat_minor": 4
}
